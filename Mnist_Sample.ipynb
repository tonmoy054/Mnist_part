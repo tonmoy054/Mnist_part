{
 "cells": [
  {
   "cell_type": "code",
   "execution_count": 471,
   "id": "633a9b41",
   "metadata": {},
   "outputs": [],
   "source": [
    "!pip install -Uqq fastbook\n",
    "import fastbook\n",
    "fastbook.setup_book()"
   ]
  },
  {
   "cell_type": "code",
   "execution_count": 472,
   "id": "6768c2b9",
   "metadata": {},
   "outputs": [],
   "source": [
    "from fastai.vision.all import *\n",
    "from fastbook import *\n",
    "\n",
    "matplotlib.rc('image', cmap='Greys')"
   ]
  },
  {
   "cell_type": "markdown",
   "id": "d816f9c6",
   "metadata": {},
   "source": [
    "<h5>Data Preprocessing<h5>"
   ]
  },
  {
   "cell_type": "code",
   "execution_count": 473,
   "id": "0ff8934d",
   "metadata": {},
   "outputs": [
    {
     "data": {
      "text/plain": [
       "(#3) [Path('labels.csv'),Path('train'),Path('valid')]"
      ]
     },
     "execution_count": 473,
     "metadata": {},
     "output_type": "execute_result"
    }
   ],
   "source": [
    "#downloading mnist data and storing it in tghe path varriable\n",
    "\n",
    "#Can check the path with path.ls()\n",
    "\n",
    "path = untar_data(URLs.MNIST_SAMPLE)\n",
    "Path.BASE_PATH = path\n",
    "path.ls()"
   ]
  },
  {
   "cell_type": "code",
   "execution_count": 474,
   "id": "7fcbde49",
   "metadata": {},
   "outputs": [],
   "source": [
    "#Seperating path of three and seven\n",
    "\n",
    "threes = (path/'train'/'3').ls().sorted()\n",
    "sevens = (path/'train'/'7').ls().sorted()\n",
    "\n",
    "threes_valid = (path/'valid'/'3').ls().sorted()\n",
    "sevens_valid = (path/'valid'/'7').ls().sorted()"
   ]
  },
  {
   "cell_type": "code",
   "execution_count": 475,
   "id": "d9eb67c9",
   "metadata": {},
   "outputs": [
    {
     "data": {
      "image/png": "[encoded data removed]",
      "text/plain": [
       "<PIL.PngImagePlugin.PngImageFile image mode=L size=28x28 at 0x7F56A64CB280>"
      ]
     },
     "execution_count": 475,
     "metadata": {},
     "output_type": "execute_result"
    }
   ],
   "source": [
    "# for testing showing a image data of three\n",
    "\n",
    "im3_path = threes[1]\n",
    "im3 = Image.open(im3_path)\n",
    "im3"
   ]
  },
  {
   "cell_type": "code",
   "execution_count": 476,
   "id": "e5c587a9",
   "metadata": {},
   "outputs": [],
   "source": [
    "# Converting a image to tensor and putting the tensor in a dataframe\n",
    "# we get dataframe from pandas\n",
    "\n",
    "im3_t = tensor(im3)\n",
    "df = pd.DataFrame(im3_t)\n",
    "\n",
    "#use the code below the show the tensor data\n",
    "#df.style.set_properties(**{'font-size':'6pt'}).background_gradient('Greys')"
   ]
  },
  {
   "cell_type": "code",
   "execution_count": 477,
   "id": "47e87818",
   "metadata": {},
   "outputs": [
    {
     "data": {
      "text/plain": [
       "(6131, 6265, 1010, 1028)"
      ]
     },
     "execution_count": 477,
     "metadata": {},
     "output_type": "execute_result"
    }
   ],
   "source": [
    "# Converting all the images to tensor by looping through the path\n",
    "\n",
    "seven_tensors = [tensor(Image.open(o)) for o in sevens]\n",
    "three_tensors = [tensor(Image.open(o)) for o in threes]\n",
    "\n",
    "\n",
    "seven_tensors_valid = [tensor(Image.open(o)) for o in sevens_valid]\n",
    "three_tensors_valid = [tensor(Image.open(o)) for o in threes_valid]\n",
    "\n",
    "len(three_tensors),len(seven_tensors),len(three_tensors_valid),len(seven_tensors_valid)"
   ]
  },
  {
   "cell_type": "code",
   "execution_count": 478,
   "id": "8a875bbf",
   "metadata": {},
   "outputs": [
    {
     "data": {
      "text/plain": [
       "torch.Size([6131, 28, 28])"
      ]
     },
     "execution_count": 478,
     "metadata": {},
     "output_type": "execute_result"
    }
   ],
   "source": [
    "# stacking all the tensors and making it 3 dimensional matrix\n",
    "\n",
    "stacked_sevens = torch.stack(seven_tensors).float()/255\n",
    "stacked_threes = torch.stack(three_tensors).float()/255\n",
    "\n",
    "stacked_sevens_valid = torch.stack(seven_tensors_valid).float()/255\n",
    "stacked_threes_valid = torch.stack(three_tensors_valid).float()/255\n",
    "\n",
    "stacked_threes.shape"
   ]
  },
  {
   "cell_type": "code",
   "execution_count": 479,
   "id": "d3b857b3",
   "metadata": {},
   "outputs": [
    {
     "data": {
      "text/plain": [
       "torch.Size([12396, 784])"
      ]
     },
     "execution_count": 479,
     "metadata": {},
     "output_type": "execute_result"
    }
   ],
   "source": [
    "#making all the matrix a vector \n",
    "#for every individual pixel we getting data for the all image \n",
    "#pytorch is concatanating the values\n",
    "\n",
    "train_x = torch.cat([stacked_threes, stacked_sevens]).view(-1, 28*28)\n",
    "train_x.shape"
   ]
  },
  {
   "cell_type": "code",
   "execution_count": 480,
   "id": "36be173a",
   "metadata": {},
   "outputs": [
    {
     "data": {
      "text/plain": [
       "(torch.Size([12396, 784]), torch.Size([12396, 1]))"
      ]
     },
     "execution_count": 480,
     "metadata": {},
     "output_type": "execute_result"
    }
   ],
   "source": [
    "#Y is using for labeling\n",
    "#it will label the threes in 1 and sevens in 0\n",
    "\n",
    "\n",
    "train_y = tensor([1]*len(threes) + [0]*len(sevens)).unsqueeze(1)\n",
    "train_x.shape,train_y.shape"
   ]
  },
  {
   "cell_type": "code",
   "execution_count": 481,
   "id": "c89223dc",
   "metadata": {},
   "outputs": [
    {
     "data": {
      "text/plain": [
       "(torch.Size([784]), torch.Size([1]))"
      ]
     },
     "execution_count": 481,
     "metadata": {},
     "output_type": "execute_result"
    }
   ],
   "source": [
    "#dataset is using for tupple\n",
    "#for the first image we are getting 784 pixel for x and 1 label for y\n",
    "\n",
    "dset = list(zip(train_x,train_y))\n",
    "x,y = dset[0]\n",
    "x.shape,y.shape"
   ]
  },
  {
   "cell_type": "code",
   "execution_count": 482,
   "id": "fbdafe69",
   "metadata": {},
   "outputs": [],
   "source": [
    "#repeating the process for validation set\n",
    "\n",
    "\n",
    "valid_x = torch.cat([stacked_threes_valid, stacked_sevens_valid]).view(-1, 28*28)\n",
    "valid_y = tensor([1]*len(threes_valid) + [0]*len(sevens_valid)).unsqueeze(1)\n",
    "valid_dset = list(zip(valid_x,valid_y))"
   ]
  },
  {
   "cell_type": "markdown",
   "id": "66cdcecb",
   "metadata": {},
   "source": [
    "<h5>Initialize the parameters<h5>"
   ]
  },
  {
   "cell_type": "code",
   "execution_count": 483,
   "id": "5e38d0ab",
   "metadata": {},
   "outputs": [
    {
     "data": {
      "text/plain": [
       "torch.Size([784, 1])"
      ]
     },
     "execution_count": 483,
     "metadata": {},
     "output_type": "execute_result"
    }
   ],
   "source": [
    "#initialising parameters function with requires_grad\n",
    "#requires_grad_ is for gradient descent\n",
    "\n",
    "def init_params(size, std=1.0): return (torch.randn(size)*std).requires_grad_()\n",
    "\n",
    "#initialising weights for every pixel\n",
    "\n",
    "weights = init_params((28*28,1))\n",
    "weights.shape"
   ]
  },
  {
   "cell_type": "code",
   "execution_count": 484,
   "id": "5750851e",
   "metadata": {},
   "outputs": [
    {
     "data": {
      "text/plain": [
       "tensor([0.7589], requires_grad=True)"
      ]
     },
     "execution_count": 484,
     "metadata": {},
     "output_type": "execute_result"
    }
   ],
   "source": [
    "#initialising a random bias\n",
    "\n",
    "bias = init_params(1)\n",
    "bias"
   ]
  },
  {
   "cell_type": "markdown",
   "id": "68681d03",
   "metadata": {},
   "source": [
    "<h6>loss function<h6>"
   ]
  },
  {
   "cell_type": "code",
   "execution_count": 485,
   "id": "5bf808ef",
   "metadata": {},
   "outputs": [
    {
     "data": {
      "text/plain": [
       "tensor([2.4918], grad_fn=<AddBackward0>)"
      ]
     },
     "execution_count": 485,
     "metadata": {},
     "output_type": "execute_result"
    }
   ],
   "source": [
    "#calculate a prediction for one image\n",
    "#(X*W)+b\n",
    "\n",
    "(train_x[0]*weights.T).sum() + bias\n",
    "#train_x[0].shape"
   ]
  },
  {
   "cell_type": "code",
   "execution_count": 486,
   "id": "33e399b2",
   "metadata": {},
   "outputs": [
    {
     "data": {
      "text/plain": [
       "tensor([[ 2.4918],\n",
       "        [ 6.1606],\n",
       "        [ 7.7278],\n",
       "        ...,\n",
       "        [19.7293],\n",
       "        [19.3894],\n",
       "        [10.2566]], grad_fn=<AddBackward0>)"
      ]
     },
     "execution_count": 486,
     "metadata": {},
     "output_type": "execute_result"
    }
   ],
   "source": [
    "#function for calculating for all the images\n",
    "# @ represents matrix multiplication\n",
    "\n",
    "def linear1(xb): return xb@weights + bias\n",
    "\n",
    "#passing train X \n",
    "preds = linear1(train_x)\n",
    "preds"
   ]
  },
  {
   "cell_type": "code",
   "execution_count": 487,
   "id": "00b5f530",
   "metadata": {},
   "outputs": [
    {
     "data": {
      "text/plain": [
       "tensor([[1.],\n",
       "        [1.],\n",
       "        [1.],\n",
       "        ...,\n",
       "        [0.],\n",
       "        [0.],\n",
       "        [0.]])"
      ]
     },
     "execution_count": 487,
     "metadata": {},
     "output_type": "execute_result"
    }
   ],
   "source": [
    "# checking accuracy\n",
    "\n",
    "corrects = (preds>0.5).float() == train_y\n",
    "corrects.float()\n"
   ]
  },
  {
   "cell_type": "code",
   "execution_count": 488,
   "id": "692ef9c8",
   "metadata": {},
   "outputs": [
    {
     "data": {
      "text/plain": [
       "tensor(0.4255)"
      ]
     },
     "execution_count": 488,
     "metadata": {},
     "output_type": "execute_result"
    }
   ],
   "source": [
    "#accuracy percenatge\n",
    "\n",
    "corrects.float().mean()"
   ]
  },
  {
   "cell_type": "code",
   "execution_count": 489,
   "id": "1e5ca7db",
   "metadata": {},
   "outputs": [],
   "source": [
    "with torch.no_grad():\n",
    "         weights[0] *= 1.0001"
   ]
  },
  {
   "cell_type": "code",
   "execution_count": 490,
   "id": "8dd3cb0b",
   "metadata": {},
   "outputs": [
    {
     "data": {
      "text/plain": [
       "0.4255405068397522"
      ]
     },
     "execution_count": 490,
     "metadata": {},
     "output_type": "execute_result"
    }
   ],
   "source": [
    "preds = linear1(train_x)\n",
    "((preds>0.5).float() == train_y).float().mean().item()"
   ]
  },
  {
   "cell_type": "markdown",
   "id": "c09b6929",
   "metadata": {},
   "source": [
    "<h6>Better loss function with Sigmoid<h6>"
   ]
  },
  {
   "cell_type": "code",
   "execution_count": 491,
   "id": "cd2b30de",
   "metadata": {},
   "outputs": [],
   "source": [
    "#defining sigmoid function which give value 1>x>0\n",
    "# sigmoid(x) = 1/1+e^(-x)\n",
    "\n",
    "def sigmoid(x): return 1/(1+torch.exp(-x))"
   ]
  },
  {
   "cell_type": "code",
   "execution_count": 492,
   "id": "271b1e49",
   "metadata": {},
   "outputs": [],
   "source": [
    "#defining new loss function with sigmoid\n",
    "# torch where is like a if else statement\n",
    "#if taget is 1 do 1-predictions, if not return prediction\n",
    "\n",
    "def mnist_loss(predictions, targets):\n",
    "    predictions = predictions.sigmoid()\n",
    "    return torch.where(targets==1, 1-predictions, predictions).mean()"
   ]
  },
  {
   "cell_type": "code",
   "execution_count": 493,
   "id": "f8a65876",
   "metadata": {},
   "outputs": [
    {
     "data": {
      "text/plain": [
       "(torch.Size([256, 784]), torch.Size([256, 1]))"
      ]
     },
     "execution_count": 493,
     "metadata": {},
     "output_type": "execute_result"
    }
   ],
   "source": [
    "#dataloader is used for minibatches\n",
    "# we are providing our previous dataset to dataloader with a minibatch of 256\n",
    "\n",
    "dl = DataLoader(dset, batch_size=256)\n",
    "\n",
    "#first(dl) is used for showing first batch of data\n",
    "xb,yb = first(dl)\n",
    "xb.shape,yb.shape"
   ]
  },
  {
   "cell_type": "code",
   "execution_count": 494,
   "id": "ee3b0079",
   "metadata": {},
   "outputs": [],
   "source": [
    "#repeating for the validation set\n",
    "\n",
    "valid_dl = DataLoader(valid_dset, batch_size=256)"
   ]
  },
  {
   "cell_type": "markdown",
   "id": "3ca21b44",
   "metadata": {},
   "source": [
    "<h5>Calculate the gradient. training model, validation mode<h5>"
   ]
  },
  {
   "cell_type": "code",
   "execution_count": 495,
   "id": "e348df66",
   "metadata": {},
   "outputs": [],
   "source": [
    "#defining the calculation of gradient descent\n",
    "\n",
    "def calc_grad(xb, yb, model):\n",
    "    preds = model(xb)\n",
    "    loss = mnist_loss(preds, yb)\n",
    "    loss.backward()"
   ]
  },
  {
   "cell_type": "code",
   "execution_count": 496,
   "id": "d2e4be0f",
   "metadata": {},
   "outputs": [],
   "source": [
    "#inititaing zero for epochs as _ will change in instance for all weights and biases\n",
    "\n",
    "#weights.grad.zero_()\n",
    "#bias.grad.zero_();"
   ]
  },
  {
   "cell_type": "code",
   "execution_count": 497,
   "id": "989f0590",
   "metadata": {},
   "outputs": [],
   "source": [
    "#loading batches from the dataloader\n",
    "#calculating gradient\n",
    "#updating data of parameters\n",
    "#making parameters 0 again\n",
    "#parameter data and parameter grad are two different things\n",
    "\n",
    "def train_epoch(model, lr, params):\n",
    "    for xb,yb in dl:\n",
    "        calc_grad(xb, yb, model)\n",
    "        for p in params:\n",
    "            p.data -= p.grad*lr\n",
    "            p.grad.zero_()\n",
    "            \n",
    "#inititaing zero for epochs as _ will change in instance for all weights and biases\n",
    "#weights.grad.zero_()\n",
    "#bias.grad.zero_();"
   ]
  },
  {
   "cell_type": "code",
   "execution_count": 498,
   "id": "39928e14",
   "metadata": {},
   "outputs": [],
   "source": [
    "#defining function for checking accuracy of batche\n",
    "\n",
    "def batch_accuracy(xb, yb):\n",
    "    preds = xb.sigmoid()\n",
    "    correct = (preds>0.5) == yb\n",
    "    return correct.float().mean()"
   ]
  },
  {
   "cell_type": "code",
   "execution_count": 499,
   "id": "da5fe620",
   "metadata": {},
   "outputs": [],
   "source": [
    "# getting every batch accuracy by looping throught validation dataloader\n",
    "#stacking the accuracies and calcualting mean by rounding 4 decimal\n",
    "\n",
    "def validate_epoch(model):\n",
    "    accs = [batch_accuracy(model(xb), yb) for xb,yb in valid_dl]\n",
    "    return round(torch.stack(accs).mean().item(), 4)"
   ]
  },
  {
   "cell_type": "markdown",
   "id": "73c2c5f3",
   "metadata": {},
   "source": [
    "<h5>Train the model and validating<h5>"
   ]
  },
  {
   "cell_type": "code",
   "execution_count": 500,
   "id": "52f72412",
   "metadata": {},
   "outputs": [
    {
     "name": "stdout",
     "output_type": "stream",
     "text": [
      "0.4897 0.4922 0.4927 0.4927 0.4937 0.4937 0.4985 0.5731 0.6943 0.8525 0.9126 0.9385 0.9477 0.9555 0.9609 0.9629 0.9653 0.9658 0.9682 0.9707 0.9712 0.9712 0.9712 0.9721 0.9721 0.9731 0.9741 0.9746 0.9741 0.9746 0.9746 0.9741 0.9746 0.9741 0.9746 0.9746 0.9751 0.9751 0.9751 0.9751 0.9751 0.9751 0.9756 0.9756 0.977 0.9765 0.9765 0.977 0.977 0.977 0.9775 0.978 0.978 0.978 0.9785 0.9785 0.978 0.978 0.9785 0.9785 0.9785 0.9785 0.9785 0.9785 0.9785 0.9785 0.9785 0.9785 0.9785 0.9785 0.9785 0.9785 0.9795 0.9795 0.9795 0.98 0.98 0.98 0.98 0.9804 0.9804 0.9809 0.9809 0.9809 0.9809 0.9809 0.9809 0.9809 0.9809 0.9809 0.9809 0.9809 0.9809 0.9809 0.9814 0.9814 0.9814 0.9814 0.9814 0.9814 "
     ]
    }
   ],
   "source": [
    "# iterating 20 times with a learning rate of lr\n",
    "\n",
    "\n",
    "lr = 1\n",
    "params = weights, bias\n",
    "for i in range(100):\n",
    "    train_epoch(linear1, lr, params)\n",
    "    print(validate_epoch(linear1), end=' ')"
   ]
  },
  {
   "cell_type": "markdown",
   "id": "46473487",
   "metadata": {},
   "source": [
    "<h3> MNIST Optimised Version <h3>"
   ]
  },
  {
   "cell_type": "code",
   "execution_count": 501,
   "id": "9f04cc1b",
   "metadata": {},
   "outputs": [
    {
     "data": {
      "text/plain": [
       "(torch.Size([1, 784]), torch.Size([1]))"
      ]
     },
     "execution_count": 501,
     "metadata": {},
     "output_type": "execute_result"
    }
   ],
   "source": [
    "#refractoring parameters initialising and linear1 function\n",
    "linear_model = nn.Linear(28*28,1)\n",
    "\n",
    "w,b = linear_model.parameters()\n",
    "w.shape,b.shape"
   ]
  },
  {
   "cell_type": "code",
   "execution_count": 502,
   "id": "9509e06e",
   "metadata": {},
   "outputs": [],
   "source": [
    "dls = DataLoaders(dl, valid_dl)\n",
    "learn = Learner(dls, nn.Linear(28*28,1), opt_func=SGD,\n",
    "                loss_func=mnist_loss, metrics=batch_accuracy)"
   ]
  },
  {
   "cell_type": "code",
   "execution_count": 503,
   "id": "31cd3218",
   "metadata": {},
   "outputs": [
    {
     "data": {
      "text/html": [
       "<table border=\"1\" class=\"dataframe\">\n",
       "  <thead>\n",
       "    <tr style=\"text-align: left;\">\n",
       "      <th>epoch</th>\n",
       "      <th>train_loss</th>\n",
       "      <th>valid_loss</th>\n",
       "      <th>batch_accuracy</th>\n",
       "      <th>time</th>\n",
       "    </tr>\n",
       "  </thead>\n",
       "  <tbody>\n",
       "    <tr>\n",
       "      <td>0</td>\n",
       "      <td>0.635989</td>\n",
       "      <td>0.503261</td>\n",
       "      <td>0.495584</td>\n",
       "      <td>00:00</td>\n",
       "    </tr>\n",
       "    <tr>\n",
       "      <td>1</td>\n",
       "      <td>0.456262</td>\n",
       "      <td>0.224228</td>\n",
       "      <td>0.799804</td>\n",
       "      <td>00:00</td>\n",
       "    </tr>\n",
       "    <tr>\n",
       "      <td>2</td>\n",
       "      <td>0.169806</td>\n",
       "      <td>0.168758</td>\n",
       "      <td>0.849362</td>\n",
       "      <td>00:00</td>\n",
       "    </tr>\n",
       "    <tr>\n",
       "      <td>3</td>\n",
       "      <td>0.075784</td>\n",
       "      <td>0.102729</td>\n",
       "      <td>0.914622</td>\n",
       "      <td>00:00</td>\n",
       "    </tr>\n",
       "    <tr>\n",
       "      <td>4</td>\n",
       "      <td>0.041110</td>\n",
       "      <td>0.075918</td>\n",
       "      <td>0.932777</td>\n",
       "      <td>00:00</td>\n",
       "    </tr>\n",
       "    <tr>\n",
       "      <td>5</td>\n",
       "      <td>0.027517</td>\n",
       "      <td>0.061177</td>\n",
       "      <td>0.947988</td>\n",
       "      <td>00:00</td>\n",
       "    </tr>\n",
       "    <tr>\n",
       "      <td>6</td>\n",
       "      <td>0.021888</td>\n",
       "      <td>0.051928</td>\n",
       "      <td>0.957802</td>\n",
       "      <td>00:00</td>\n",
       "    </tr>\n",
       "    <tr>\n",
       "      <td>7</td>\n",
       "      <td>0.019353</td>\n",
       "      <td>0.045760</td>\n",
       "      <td>0.962218</td>\n",
       "      <td>00:00</td>\n",
       "    </tr>\n",
       "    <tr>\n",
       "      <td>8</td>\n",
       "      <td>0.018045</td>\n",
       "      <td>0.041426</td>\n",
       "      <td>0.965653</td>\n",
       "      <td>00:00</td>\n",
       "    </tr>\n",
       "    <tr>\n",
       "      <td>9</td>\n",
       "      <td>0.017247</td>\n",
       "      <td>0.038231</td>\n",
       "      <td>0.968597</td>\n",
       "      <td>00:00</td>\n",
       "    </tr>\n",
       "    <tr>\n",
       "      <td>10</td>\n",
       "      <td>0.016680</td>\n",
       "      <td>0.035776</td>\n",
       "      <td>0.970069</td>\n",
       "      <td>00:00</td>\n",
       "    </tr>\n",
       "    <tr>\n",
       "      <td>11</td>\n",
       "      <td>0.016232</td>\n",
       "      <td>0.033818</td>\n",
       "      <td>0.972522</td>\n",
       "      <td>00:00</td>\n",
       "    </tr>\n",
       "    <tr>\n",
       "      <td>12</td>\n",
       "      <td>0.015860</td>\n",
       "      <td>0.032210</td>\n",
       "      <td>0.973994</td>\n",
       "      <td>00:00</td>\n",
       "    </tr>\n",
       "    <tr>\n",
       "      <td>13</td>\n",
       "      <td>0.015542</td>\n",
       "      <td>0.030862</td>\n",
       "      <td>0.974485</td>\n",
       "      <td>00:00</td>\n",
       "    </tr>\n",
       "    <tr>\n",
       "      <td>14</td>\n",
       "      <td>0.015268</td>\n",
       "      <td>0.029715</td>\n",
       "      <td>0.975957</td>\n",
       "      <td>00:00</td>\n",
       "    </tr>\n",
       "    <tr>\n",
       "      <td>15</td>\n",
       "      <td>0.015030</td>\n",
       "      <td>0.028730</td>\n",
       "      <td>0.976938</td>\n",
       "      <td>00:00</td>\n",
       "    </tr>\n",
       "    <tr>\n",
       "      <td>16</td>\n",
       "      <td>0.014821</td>\n",
       "      <td>0.027875</td>\n",
       "      <td>0.977429</td>\n",
       "      <td>00:00</td>\n",
       "    </tr>\n",
       "    <tr>\n",
       "      <td>17</td>\n",
       "      <td>0.014636</td>\n",
       "      <td>0.027129</td>\n",
       "      <td>0.977429</td>\n",
       "      <td>00:00</td>\n",
       "    </tr>\n",
       "    <tr>\n",
       "      <td>18</td>\n",
       "      <td>0.014469</td>\n",
       "      <td>0.026473</td>\n",
       "      <td>0.977920</td>\n",
       "      <td>00:00</td>\n",
       "    </tr>\n",
       "    <tr>\n",
       "      <td>19</td>\n",
       "      <td>0.014317</td>\n",
       "      <td>0.025892</td>\n",
       "      <td>0.977920</td>\n",
       "      <td>00:00</td>\n",
       "    </tr>\n",
       "  </tbody>\n",
       "</table>"
      ],
      "text/plain": [
       "<IPython.core.display.HTML object>"
      ]
     },
     "metadata": {},
     "output_type": "display_data"
    }
   ],
   "source": [
    "learn.fit(20, lr=lr)"
   ]
  },
  {
   "cell_type": "code",
   "execution_count": 504,
   "id": "f583e5a6",
   "metadata": {},
   "outputs": [
    {
     "data": {
      "image/png": "[encoded data removed]",
      "text/plain": [
       "<Figure size 432x288 with 1 Axes>"
      ]
     },
     "metadata": {
      "needs_background": "light"
     },
     "output_type": "display_data"
    }
   ],
   "source": [
    "plt.plot(L(learn.recorder.values).itemgot(2));"
   ]
  },
  {
   "cell_type": "markdown",
   "id": "787ec152",
   "metadata": {},
   "source": [
    "<h5>Simple neural net <h5>"
   ]
  },
  {
   "cell_type": "code",
   "execution_count": 505,
   "id": "060f3f87",
   "metadata": {},
   "outputs": [],
   "source": [
    "#ReLU is used for changing neg numbers to 0\n",
    "\n",
    "simple_net = nn.Sequential(\n",
    "    nn.Linear(28*28,30),\n",
    "    nn.ReLU(),\n",
    "    nn.Linear(30,1)\n",
    ")"
   ]
  },
  {
   "cell_type": "code",
   "execution_count": 506,
   "id": "65e59cdd",
   "metadata": {},
   "outputs": [],
   "source": [
    "learn = Learner(dls, simple_net, opt_func=SGD,\n",
    "                loss_func=mnist_loss, metrics=batch_accuracy)"
   ]
  },
  {
   "cell_type": "code",
   "execution_count": 507,
   "id": "1d7e12d9",
   "metadata": {},
   "outputs": [
    {
     "data": {
      "text/html": [
       "<table border=\"1\" class=\"dataframe\">\n",
       "  <thead>\n",
       "    <tr style=\"text-align: left;\">\n",
       "      <th>epoch</th>\n",
       "      <th>train_loss</th>\n",
       "      <th>valid_loss</th>\n",
       "      <th>batch_accuracy</th>\n",
       "      <th>time</th>\n",
       "    </tr>\n",
       "  </thead>\n",
       "  <tbody>\n",
       "    <tr>\n",
       "      <td>0</td>\n",
       "      <td>0.289872</td>\n",
       "      <td>0.413856</td>\n",
       "      <td>0.505397</td>\n",
       "      <td>00:00</td>\n",
       "    </tr>\n",
       "    <tr>\n",
       "      <td>1</td>\n",
       "      <td>0.138481</td>\n",
       "      <td>0.218120</td>\n",
       "      <td>0.816977</td>\n",
       "      <td>00:00</td>\n",
       "    </tr>\n",
       "    <tr>\n",
       "      <td>2</td>\n",
       "      <td>0.077903</td>\n",
       "      <td>0.111061</td>\n",
       "      <td>0.918057</td>\n",
       "      <td>00:00</td>\n",
       "    </tr>\n",
       "    <tr>\n",
       "      <td>3</td>\n",
       "      <td>0.051943</td>\n",
       "      <td>0.075491</td>\n",
       "      <td>0.942591</td>\n",
       "      <td>00:00</td>\n",
       "    </tr>\n",
       "    <tr>\n",
       "      <td>4</td>\n",
       "      <td>0.039760</td>\n",
       "      <td>0.059015</td>\n",
       "      <td>0.959274</td>\n",
       "      <td>00:00</td>\n",
       "    </tr>\n",
       "    <tr>\n",
       "      <td>5</td>\n",
       "      <td>0.033457</td>\n",
       "      <td>0.049777</td>\n",
       "      <td>0.963690</td>\n",
       "      <td>00:00</td>\n",
       "    </tr>\n",
       "    <tr>\n",
       "      <td>6</td>\n",
       "      <td>0.029791</td>\n",
       "      <td>0.043975</td>\n",
       "      <td>0.967125</td>\n",
       "      <td>00:00</td>\n",
       "    </tr>\n",
       "    <tr>\n",
       "      <td>7</td>\n",
       "      <td>0.027387</td>\n",
       "      <td>0.040014</td>\n",
       "      <td>0.967615</td>\n",
       "      <td>00:00</td>\n",
       "    </tr>\n",
       "    <tr>\n",
       "      <td>8</td>\n",
       "      <td>0.025642</td>\n",
       "      <td>0.037130</td>\n",
       "      <td>0.970559</td>\n",
       "      <td>00:00</td>\n",
       "    </tr>\n",
       "    <tr>\n",
       "      <td>9</td>\n",
       "      <td>0.024285</td>\n",
       "      <td>0.034923</td>\n",
       "      <td>0.972031</td>\n",
       "      <td>00:00</td>\n",
       "    </tr>\n",
       "    <tr>\n",
       "      <td>10</td>\n",
       "      <td>0.023180</td>\n",
       "      <td>0.033170</td>\n",
       "      <td>0.972522</td>\n",
       "      <td>00:00</td>\n",
       "    </tr>\n",
       "    <tr>\n",
       "      <td>11</td>\n",
       "      <td>0.022257</td>\n",
       "      <td>0.031734</td>\n",
       "      <td>0.974485</td>\n",
       "      <td>00:00</td>\n",
       "    </tr>\n",
       "    <tr>\n",
       "      <td>12</td>\n",
       "      <td>0.021470</td>\n",
       "      <td>0.030529</td>\n",
       "      <td>0.974485</td>\n",
       "      <td>00:00</td>\n",
       "    </tr>\n",
       "    <tr>\n",
       "      <td>13</td>\n",
       "      <td>0.020788</td>\n",
       "      <td>0.029496</td>\n",
       "      <td>0.974975</td>\n",
       "      <td>00:00</td>\n",
       "    </tr>\n",
       "    <tr>\n",
       "      <td>14</td>\n",
       "      <td>0.020190</td>\n",
       "      <td>0.028596</td>\n",
       "      <td>0.975957</td>\n",
       "      <td>00:00</td>\n",
       "    </tr>\n",
       "    <tr>\n",
       "      <td>15</td>\n",
       "      <td>0.019660</td>\n",
       "      <td>0.027804</td>\n",
       "      <td>0.976938</td>\n",
       "      <td>00:00</td>\n",
       "    </tr>\n",
       "    <tr>\n",
       "      <td>16</td>\n",
       "      <td>0.019186</td>\n",
       "      <td>0.027097</td>\n",
       "      <td>0.977429</td>\n",
       "      <td>00:00</td>\n",
       "    </tr>\n",
       "    <tr>\n",
       "      <td>17</td>\n",
       "      <td>0.018759</td>\n",
       "      <td>0.026463</td>\n",
       "      <td>0.978901</td>\n",
       "      <td>00:00</td>\n",
       "    </tr>\n",
       "    <tr>\n",
       "      <td>18</td>\n",
       "      <td>0.018371</td>\n",
       "      <td>0.025890</td>\n",
       "      <td>0.978901</td>\n",
       "      <td>00:00</td>\n",
       "    </tr>\n",
       "    <tr>\n",
       "      <td>19</td>\n",
       "      <td>0.018015</td>\n",
       "      <td>0.025370</td>\n",
       "      <td>0.979392</td>\n",
       "      <td>00:00</td>\n",
       "    </tr>\n",
       "    <tr>\n",
       "      <td>20</td>\n",
       "      <td>0.017688</td>\n",
       "      <td>0.024896</td>\n",
       "      <td>0.979392</td>\n",
       "      <td>00:00</td>\n",
       "    </tr>\n",
       "    <tr>\n",
       "      <td>21</td>\n",
       "      <td>0.017385</td>\n",
       "      <td>0.024462</td>\n",
       "      <td>0.979882</td>\n",
       "      <td>00:00</td>\n",
       "    </tr>\n",
       "    <tr>\n",
       "      <td>22</td>\n",
       "      <td>0.017104</td>\n",
       "      <td>0.024062</td>\n",
       "      <td>0.980373</td>\n",
       "      <td>00:00</td>\n",
       "    </tr>\n",
       "    <tr>\n",
       "      <td>23</td>\n",
       "      <td>0.016841</td>\n",
       "      <td>0.023694</td>\n",
       "      <td>0.980864</td>\n",
       "      <td>00:00</td>\n",
       "    </tr>\n",
       "    <tr>\n",
       "      <td>24</td>\n",
       "      <td>0.016595</td>\n",
       "      <td>0.023354</td>\n",
       "      <td>0.981354</td>\n",
       "      <td>00:00</td>\n",
       "    </tr>\n",
       "    <tr>\n",
       "      <td>25</td>\n",
       "      <td>0.016363</td>\n",
       "      <td>0.023039</td>\n",
       "      <td>0.981845</td>\n",
       "      <td>00:00</td>\n",
       "    </tr>\n",
       "    <tr>\n",
       "      <td>26</td>\n",
       "      <td>0.016144</td>\n",
       "      <td>0.022747</td>\n",
       "      <td>0.981845</td>\n",
       "      <td>00:00</td>\n",
       "    </tr>\n",
       "    <tr>\n",
       "      <td>27</td>\n",
       "      <td>0.015938</td>\n",
       "      <td>0.022476</td>\n",
       "      <td>0.981845</td>\n",
       "      <td>00:00</td>\n",
       "    </tr>\n",
       "    <tr>\n",
       "      <td>28</td>\n",
       "      <td>0.015742</td>\n",
       "      <td>0.022223</td>\n",
       "      <td>0.981845</td>\n",
       "      <td>00:00</td>\n",
       "    </tr>\n",
       "    <tr>\n",
       "      <td>29</td>\n",
       "      <td>0.015556</td>\n",
       "      <td>0.021990</td>\n",
       "      <td>0.982336</td>\n",
       "      <td>00:00</td>\n",
       "    </tr>\n",
       "    <tr>\n",
       "      <td>30</td>\n",
       "      <td>0.015379</td>\n",
       "      <td>0.021771</td>\n",
       "      <td>0.982826</td>\n",
       "      <td>00:00</td>\n",
       "    </tr>\n",
       "    <tr>\n",
       "      <td>31</td>\n",
       "      <td>0.015210</td>\n",
       "      <td>0.021568</td>\n",
       "      <td>0.983317</td>\n",
       "      <td>00:00</td>\n",
       "    </tr>\n",
       "    <tr>\n",
       "      <td>32</td>\n",
       "      <td>0.015049</td>\n",
       "      <td>0.021378</td>\n",
       "      <td>0.983317</td>\n",
       "      <td>00:00</td>\n",
       "    </tr>\n",
       "    <tr>\n",
       "      <td>33</td>\n",
       "      <td>0.014895</td>\n",
       "      <td>0.021200</td>\n",
       "      <td>0.983317</td>\n",
       "      <td>00:00</td>\n",
       "    </tr>\n",
       "    <tr>\n",
       "      <td>34</td>\n",
       "      <td>0.014748</td>\n",
       "      <td>0.021032</td>\n",
       "      <td>0.983317</td>\n",
       "      <td>00:00</td>\n",
       "    </tr>\n",
       "    <tr>\n",
       "      <td>35</td>\n",
       "      <td>0.014606</td>\n",
       "      <td>0.020875</td>\n",
       "      <td>0.983317</td>\n",
       "      <td>00:00</td>\n",
       "    </tr>\n",
       "    <tr>\n",
       "      <td>36</td>\n",
       "      <td>0.014470</td>\n",
       "      <td>0.020727</td>\n",
       "      <td>0.983317</td>\n",
       "      <td>00:00</td>\n",
       "    </tr>\n",
       "    <tr>\n",
       "      <td>37</td>\n",
       "      <td>0.014339</td>\n",
       "      <td>0.020587</td>\n",
       "      <td>0.983317</td>\n",
       "      <td>00:00</td>\n",
       "    </tr>\n",
       "    <tr>\n",
       "      <td>38</td>\n",
       "      <td>0.014213</td>\n",
       "      <td>0.020455</td>\n",
       "      <td>0.983317</td>\n",
       "      <td>00:00</td>\n",
       "    </tr>\n",
       "    <tr>\n",
       "      <td>39</td>\n",
       "      <td>0.014091</td>\n",
       "      <td>0.020330</td>\n",
       "      <td>0.982826</td>\n",
       "      <td>00:00</td>\n",
       "    </tr>\n",
       "  </tbody>\n",
       "</table>"
      ],
      "text/plain": [
       "<IPython.core.display.HTML object>"
      ]
     },
     "metadata": {},
     "output_type": "display_data"
    }
   ],
   "source": [
    "\n",
    "learn.fit(40, 0.1)"
   ]
  },
  {
   "cell_type": "code",
   "execution_count": 508,
   "id": "73dc3ba2",
   "metadata": {},
   "outputs": [
    {
     "data": {
      "image/png": "[encoded data removed]",
      "text/plain": [
       "<Figure size 432x288 with 1 Axes>"
      ]
     },
     "metadata": {
      "needs_background": "light"
     },
     "output_type": "display_data"
    }
   ],
   "source": [
    "plt.plot(L(learn.recorder.values).itemgot(2));"
   ]
  },
  {
   "cell_type": "markdown",
   "id": "ee427ff5",
   "metadata": {},
   "source": [
    "<h5>18 layer neural net <h5>"
   ]
  },
  {
   "cell_type": "code",
   "execution_count": 509,
   "id": "e361e05b",
   "metadata": {},
   "outputs": [
    {
     "data": {
      "text/html": [
       "<table border=\"1\" class=\"dataframe\">\n",
       "  <thead>\n",
       "    <tr style=\"text-align: left;\">\n",
       "      <th>epoch</th>\n",
       "      <th>train_loss</th>\n",
       "      <th>valid_loss</th>\n",
       "      <th>accuracy</th>\n",
       "      <th>time</th>\n",
       "    </tr>\n",
       "  </thead>\n",
       "  <tbody>\n",
       "    <tr>\n",
       "      <td>0</td>\n",
       "      <td>0.049823</td>\n",
       "      <td>0.012766</td>\n",
       "      <td>0.996565</td>\n",
       "      <td>00:05</td>\n",
       "    </tr>\n",
       "    <tr>\n",
       "      <td>1</td>\n",
       "      <td>0.052833</td>\n",
       "      <td>0.030058</td>\n",
       "      <td>0.990677</td>\n",
       "      <td>00:05</td>\n",
       "    </tr>\n",
       "    <tr>\n",
       "      <td>2</td>\n",
       "      <td>0.283216</td>\n",
       "      <td>0.369350</td>\n",
       "      <td>0.969578</td>\n",
       "      <td>00:05</td>\n",
       "    </tr>\n",
       "    <tr>\n",
       "      <td>3</td>\n",
       "      <td>0.131393</td>\n",
       "      <td>0.022811</td>\n",
       "      <td>0.994112</td>\n",
       "      <td>00:05</td>\n",
       "    </tr>\n",
       "    <tr>\n",
       "      <td>4</td>\n",
       "      <td>0.260839</td>\n",
       "      <td>0.061273</td>\n",
       "      <td>0.997056</td>\n",
       "      <td>00:05</td>\n",
       "    </tr>\n",
       "    <tr>\n",
       "      <td>5</td>\n",
       "      <td>0.456175</td>\n",
       "      <td>0.163104</td>\n",
       "      <td>0.996075</td>\n",
       "      <td>00:05</td>\n",
       "    </tr>\n",
       "    <tr>\n",
       "      <td>6</td>\n",
       "      <td>0.479453</td>\n",
       "      <td>1.717188</td>\n",
       "      <td>0.966634</td>\n",
       "      <td>00:05</td>\n",
       "    </tr>\n",
       "    <tr>\n",
       "      <td>7</td>\n",
       "      <td>0.134605</td>\n",
       "      <td>0.683783</td>\n",
       "      <td>0.976938</td>\n",
       "      <td>00:05</td>\n",
       "    </tr>\n",
       "    <tr>\n",
       "      <td>8</td>\n",
       "      <td>0.296857</td>\n",
       "      <td>0.456689</td>\n",
       "      <td>0.989205</td>\n",
       "      <td>00:05</td>\n",
       "    </tr>\n",
       "    <tr>\n",
       "      <td>9</td>\n",
       "      <td>0.321756</td>\n",
       "      <td>0.119356</td>\n",
       "      <td>0.997056</td>\n",
       "      <td>00:05</td>\n",
       "    </tr>\n",
       "    <tr>\n",
       "      <td>10</td>\n",
       "      <td>0.274490</td>\n",
       "      <td>14.998377</td>\n",
       "      <td>0.994603</td>\n",
       "      <td>00:05</td>\n",
       "    </tr>\n",
       "    <tr>\n",
       "      <td>11</td>\n",
       "      <td>0.246928</td>\n",
       "      <td>14.809882</td>\n",
       "      <td>0.994603</td>\n",
       "      <td>00:05</td>\n",
       "    </tr>\n",
       "    <tr>\n",
       "      <td>12</td>\n",
       "      <td>0.072922</td>\n",
       "      <td>0.014847</td>\n",
       "      <td>0.999019</td>\n",
       "      <td>00:05</td>\n",
       "    </tr>\n",
       "    <tr>\n",
       "      <td>13</td>\n",
       "      <td>0.043452</td>\n",
       "      <td>0.016849</td>\n",
       "      <td>0.996565</td>\n",
       "      <td>00:05</td>\n",
       "    </tr>\n",
       "    <tr>\n",
       "      <td>14</td>\n",
       "      <td>0.044980</td>\n",
       "      <td>0.058463</td>\n",
       "      <td>0.998037</td>\n",
       "      <td>00:05</td>\n",
       "    </tr>\n",
       "    <tr>\n",
       "      <td>15</td>\n",
       "      <td>0.017990</td>\n",
       "      <td>0.052214</td>\n",
       "      <td>0.997547</td>\n",
       "      <td>00:05</td>\n",
       "    </tr>\n",
       "    <tr>\n",
       "      <td>16</td>\n",
       "      <td>0.001188</td>\n",
       "      <td>0.015657</td>\n",
       "      <td>0.999509</td>\n",
       "      <td>00:05</td>\n",
       "    </tr>\n",
       "    <tr>\n",
       "      <td>17</td>\n",
       "      <td>0.000947</td>\n",
       "      <td>0.011880</td>\n",
       "      <td>0.999019</td>\n",
       "      <td>00:05</td>\n",
       "    </tr>\n",
       "    <tr>\n",
       "      <td>18</td>\n",
       "      <td>0.001678</td>\n",
       "      <td>0.010703</td>\n",
       "      <td>0.999019</td>\n",
       "      <td>00:05</td>\n",
       "    </tr>\n",
       "    <tr>\n",
       "      <td>19</td>\n",
       "      <td>0.000105</td>\n",
       "      <td>0.010529</td>\n",
       "      <td>0.999019</td>\n",
       "      <td>00:05</td>\n",
       "    </tr>\n",
       "  </tbody>\n",
       "</table>"
      ],
      "text/plain": [
       "<IPython.core.display.HTML object>"
      ]
     },
     "metadata": {},
     "output_type": "display_data"
    }
   ],
   "source": [
    "dls = ImageDataLoaders.from_folder(path)\n",
    "learn = cnn_learner(dls, resnet18, pretrained=False,\n",
    "                    loss_func=F.cross_entropy, metrics=accuracy)\n",
    "learn.fit_one_cycle(20, 0.1)"
   ]
  },
  {
   "cell_type": "code",
   "execution_count": null,
   "id": "ed8bcfe8",
   "metadata": {},
   "outputs": [],
   "source": []
  },
  {
   "cell_type": "code",
   "execution_count": null,
   "id": "2e620922",
   "metadata": {},
   "outputs": [],
   "source": []
  }
 ],
 "metadata": {
  "kernelspec": {
   "display_name": "Python 3",
   "language": "python",
   "name": "python3"
  },
  "language_info": {
   "codemirror_mode": {
    "name": "ipython",
    "version": 3
   },
   "file_extension": ".py",
   "mimetype": "text/x-python",
   "name": "python",
   "nbconvert_exporter": "python",
   "pygments_lexer": "ipython3",
   "version": "3.8.2"
  }
 },
 "nbformat": 4,
 "nbformat_minor": 5
}
